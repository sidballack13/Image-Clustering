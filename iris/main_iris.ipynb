{
 "cells": [
  {
   "cell_type": "markdown",
   "metadata": {},
   "source": [
    "Importing Libraries"
   ]
  },
  {
   "cell_type": "code",
   "execution_count": 277,
   "metadata": {},
   "outputs": [],
   "source": [
    "import pandas as pd\n",
    "import numpy as np\n",
    "import matplotlib.pyplot as plt\n",
    "import seaborn as sns\n",
    "from sklearn.preprocessing import Normalizer\n",
    "from sklearn import metrics\n",
    "from sklearn.metrics import silhouette_score,v_measure_score\n",
    "from sklearn.datasets import load_iris\n",
    "from mpl_toolkits.mplot3d import Axes3D\n",
    "from sklearn.cluster import KMeans\n",
    "from sklearn.decomposition import PCA\n",
    "import random\n",
    "sns.set()"
   ]
  },
  {
   "cell_type": "markdown",
   "metadata": {},
   "source": [
    "Reading Data"
   ]
  },
  {
   "cell_type": "code",
   "execution_count": 278,
   "metadata": {},
   "outputs": [],
   "source": [
    "X,y = load_iris(return_X_y = True)"
   ]
  },
  {
   "cell_type": "code",
   "execution_count": 461,
   "metadata": {},
   "outputs": [
    {
     "data": {
      "text/plain": [
       "<AxesSubplot:>"
      ]
     },
     "execution_count": 461,
     "metadata": {},
     "output_type": "execute_result"
    },
    {
     "data": {
      "image/png": "[encoded data removed]",
      "text/plain": [
       "<Figure size 504x288 with 2 Axes>"
      ]
     },
     "metadata": {},
     "output_type": "display_data"
    }
   ],
   "source": [
    "plt.figure(figsize=(7,4))\n",
    "sns.heatmap(pd.DataFrame(X).corr(),annot=True,cmap='summer')"
   ]
  },
  {
   "cell_type": "markdown",
   "metadata": {},
   "source": [
    "Exploratory Data Analysis"
   ]
  },
  {
   "cell_type": "code",
   "execution_count": 235,
   "metadata": {},
   "outputs": [],
   "source": [
    "# pca = PCA(n_components=2)\n",
    "# X = pca.fit_transform(X)\n"
   ]
  },
  {
   "cell_type": "code",
   "execution_count": 279,
   "metadata": {},
   "outputs": [
    {
     "data": {
      "text/plain": [
       "array([0, 0, 0, 0, 0, 0, 0, 0, 0, 0, 0, 0, 0, 0, 0, 0, 0, 0, 0, 0, 0, 0,\n",
       "       0, 0, 0, 0, 0, 0, 0, 0, 0, 0, 0, 0, 0, 0, 0, 0, 0, 0, 0, 0, 0, 0,\n",
       "       0, 0, 0, 0, 0, 0, 1, 1, 1, 1, 1, 1, 1, 1, 1, 1, 1, 1, 1, 1, 1, 1,\n",
       "       1, 1, 1, 1, 1, 1, 1, 1, 1, 1, 1, 1, 1, 1, 1, 1, 1, 1, 1, 1, 1, 1,\n",
       "       1, 1, 1, 1, 1, 1, 1, 1, 1, 1, 1, 1, 2, 2, 2, 2, 2, 2, 2, 2, 2, 2,\n",
       "       2, 2, 2, 2, 2, 2, 2, 2, 2, 2, 2, 2, 2, 2, 2, 2, 2, 2, 2, 2, 2, 2,\n",
       "       2, 2, 2, 2, 2, 2, 2, 2, 2, 2, 2, 2, 2, 2, 2, 2, 2, 2])"
      ]
     },
     "execution_count": 279,
     "metadata": {},
     "output_type": "execute_result"
    }
   ],
   "source": [
    "y"
   ]
  },
  {
   "cell_type": "markdown",
   "metadata": {},
   "source": [
    "Silhoutte Score"
   ]
  },
  {
   "cell_type": "code",
   "execution_count": 439,
   "metadata": {},
   "outputs": [
    {
     "name": "stdout",
     "output_type": "stream",
     "text": [
      "2 : 0.9420500632623174\n",
      "3 : 0.7165084634433058\n",
      "4 : -0.2769915893531754\n",
      "5 : 0.016452727455989868\n",
      "6 : -0.04556411597080674\n",
      "7 : -0.17671145704367716\n",
      "8 : -0.16536098501637744\n",
      "9 : -0.11798374550033498\n",
      "10 : -0.1653413002952235\n"
     ]
    }
   ],
   "source": [
    "ss = []\n",
    "for k in [2,3,4,5,6,7,8,9,10]:\n",
    "  cluster_labels,centroids = KMeans(X,k,10)\n",
    "  score = silhouette_score(X, cluster_labels, metric='cosine')\n",
    "  print(k,\":\",score)\n",
    "  ss.append(score)\n"
   ]
  },
  {
   "cell_type": "markdown",
   "metadata": {},
   "source": [
    "Plotting the silhoette score against all cluster vlaues"
   ]
  },
  {
   "cell_type": "code",
   "execution_count": 458,
   "metadata": {},
   "outputs": [
    {
     "data": {
      "image/png": "[encoded data removed]",
      "text/plain": [
       "<Figure size 720x360 with 1 Axes>"
      ]
     },
     "metadata": {},
     "output_type": "display_data"
    }
   ],
   "source": [
    "fig = plt.figure(figsize = (10, 5))\n",
    "plt.title(\"Fig:1 Silhouette Score for Iris\") \n",
    "plt.xlabel('K values')\n",
    "plt.ylabel('Silhouette Score')\n",
    "plt.bar([2,3,4,5,6,7,8,9,10],ss, width = 0.2, color = 'orange')\n",
    "plt.show()"
   ]
  },
  {
   "cell_type": "markdown",
   "metadata": {},
   "source": [
    "Kmean Algorithm"
   ]
  },
  {
   "cell_type": "code",
   "execution_count": 281,
   "metadata": {},
   "outputs": [],
   "source": [
    "def KMeans(X,k,n):    \n",
    "    cluster = np.zeros(X.shape[0])\n",
    "    centroids = X[random.sample(range(0, X.shape[0]-1), k), :]\n",
    "    d = 1\n",
    "    while d != 0:\n",
    "        for i, data in enumerate(X):\n",
    "            dist = []\n",
    "            for i in range(k):\n",
    "                d1 = (data[0] - centroids[i][0]) ** 2\n",
    "                d2 = (data[1] - centroids[i][1]) ** 2\n",
    "                d3 = (data[2] - centroids[i][2]) ** 2\n",
    "                d4 = (data[3] - centroids[i][3]) ** 2\n",
    "                dist.append(np.sqrt(d1+d2+d3+d4))\n",
    "            cluster[i] = dist.index(min(dist))\n",
    "        nc = pd.DataFrame(X).groupby(by=cluster).mean().values\n",
    "        if np.count_nonzero(centroids-nc) == 0:\n",
    "            d = 0\n",
    "        else:\n",
    "            centroids = nc\n",
    "        return cluster, centroids"
   ]
  },
  {
   "cell_type": "markdown",
   "metadata": {},
   "source": [
    "Kmeans ++ "
   ]
  },
  {
   "cell_type": "code",
   "execution_count": 269,
   "metadata": {},
   "outputs": [],
   "source": [
    "def KMeans_plus(X,k,n):\n",
    "    i=random.randint(0,X.shape[0])\n",
    "    centroid=np.array([X.iloc[i, :]])\n",
    "    K=3\n",
    "    for k in range(1,K):\n",
    "        D=np.array([]) \n",
    "        for x in X:\n",
    "            D=np.append(D,np.min(np.sum((x-centroid)**2)))\n",
    "        p=D/np.sum(D)\n",
    "        cummulative_prob=np.cumsum(p)\n",
    "        r=random.random()\n",
    "        i=0\n",
    "        for j,p in enumerate(cummulative_prob):\n",
    "            if r<p:\n",
    "                i=j\n",
    "                break\n",
    "        centroid=np.append(centroid,[X.iloc[i, :]],axis=0)\n",
    "    \n",
    "    centroid = pd.DataFrame(centroid)\n",
    "    d = 1\n",
    "    count = 0\n",
    "    while d != 0:\n",
    "        for idx, data in X.iterrows():\n",
    "            distance = []\n",
    "            for c, centroid in centroid.iterrows():\n",
    "                d1 = (data[0] - centroid[0]) ** 2\n",
    "                d2 = (data[1] - centroid[1]) ** 2\n",
    "                d3 = (data[2] - centroid[2]) ** 2\n",
    "                d4 = (data[3] - centroid[3]) ** 2\n",
    "                distance.append(np.sqrt(d1+d2+d3+d4))\n",
    "            cluster[idx] = distance.index(min(distance))\n",
    "        nc = pd.DataFrame(X).groupby(by=cluster).mean().values\n",
    "        if np.count_nonzero(centroid-nc) == 0:\n",
    "            d = 0\n",
    "        else:\n",
    "            centroid = pd.DataFrame(nc)\n",
    "        return cluster, centroid"
   ]
  },
  {
   "cell_type": "markdown",
   "metadata": {},
   "source": [
    "V Score"
   ]
  },
  {
   "cell_type": "code",
   "execution_count": 488,
   "metadata": {},
   "outputs": [
    {
     "name": "stdout",
     "output_type": "stream",
     "text": [
      "0.633406434735719\n"
     ]
    }
   ],
   "source": [
    "cluster,centroids = KMeans(X,3,10)\n",
    "print(v_measure_score(y,cluster))"
   ]
  }
 ],
 "metadata": {
  "interpreter": {
   "hash": "aee8b7b246df8f9039afb4144a1f6fd8d2ca17a180786b69acc140d282b71a49"
  },
  "kernelspec": {
   "display_name": "Python 3.9.7 64-bit",
   "language": "python",
   "name": "python3"
  },
  "language_info": {
   "codemirror_mode": {
    "name": "ipython",
    "version": 3
   },
   "file_extension": ".py",
   "mimetype": "text/x-python",
   "name": "python",
   "nbconvert_exporter": "python",
   "pygments_lexer": "ipython3",
   "version": "3.9.7"
  },
  "orig_nbformat": 4
 },
 "nbformat": 4,
 "nbformat_minor": 2
}
